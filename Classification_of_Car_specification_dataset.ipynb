{
  "cells": [
    {
      "cell_type": "markdown",
      "source": [
        "# 1. **Dataset description**"
      ],
      "metadata": {
        "id": "XroLhexlmZUG"
      },
      "id": "XroLhexlmZUG"
    },
    {
      "cell_type": "markdown",
      "id": "377d748b",
      "metadata": {
        "id": "377d748b"
      },
      "source": [
        "**Title: 1985 Auto Imports Database**\n",
        "\n",
        "Relevant Information:\n",
        "   -- Description\n",
        "      This data set consists of three types of entities: (a) the\n",
        "      specification of an auto in terms of various characteristics, (b)\n",
        "      its assigned insurance risk rating, (c) its normalized losses in use\n",
        "      as compared to other cars.  The second rating corresponds to the\n",
        "      degree to which the auto is more risky than its price indicates.\n",
        "      Cars are initially assigned a risk factor symbol associated with its\n",
        "      price.   Then, if it is more risky (or less), this symbol is\n",
        "      adjusted by moving it up (or down) the scale.  Actuarians call this\n",
        "      process \"symboling\".  A value of +3 indicates that the auto is\n",
        "      risky, -3 that it is probably pretty safe.\n",
        "\n",
        "      The third factor is the relative average loss payment per insured\n",
        "      vehicle year.  This value is normalized for all autos within a\n",
        "      particular size classification (two-door small, station wagons,\n",
        "      sports/speciality, etc...), and represents the average loss per car\n",
        "      per year.\n",
        "\n",
        "   -- Note: Several of the attributes in the database could be used as a\n",
        "            \"class\" attribute.\n",
        "\n",
        "5. Number of Instances: 205\n",
        "\n",
        "6. Number of Attributes: 26 total\n",
        "   -- 15 continuous\n",
        "   -- 1 integer\n",
        "   -- 10 nominal\n",
        "\n",
        "7. Attribute Information:     \n",
        "     Attribute:                Attribute Range:\n",
        "     ------------------        -----------------------------------------------\n",
        "  1. symboling:                -3, -2, -1, 0, 1, 2, 3.\n",
        "  2. normalized-losses:        continuous from 65 to 256.\n",
        "  3. make:                     alfa-romero, audi, bmw, chevrolet, dodge, honda,isuzu, jaguar, mazda, mercedes-benz, mercury, mitsubishi, nissan, peugot, plymouth, porsche, renault, saab, subaru, toyota,volkswagen, volvo\n",
        "  4. fuel-type:                diesel, gas.\n",
        "  5. aspiration:               std, turbo.\n",
        "  6. num-of-doors:             four, two.\n",
        "  7. body-style:               hardtop, wagon, sedan, hatchback, convertible.\n",
        "  8. drive-wheels:             4wd, fwd, rwd.\n",
        "  9. engine-location:          front, rear.\n",
        " 10. wheel-base:               continuous from 86.6 120.9.\n",
        " 11. length:                   continuous from 141.1 to 208.1.\n",
        " 12. width:                    continuous from 60.3 to 72.3.\n",
        " 13. height:                   continuous from 47.8 to 59.8.\n",
        " 14. curb-weight:              continuous from 1488 to 4066.\n",
        " 15. engine-type:              dohc, dohcv, l, ohc, ohcf, ohcv, rotor.\n",
        " 16. num-of-cylinders:         eight, five, four, six, three, twelve, two.\n",
        " 17. engine-size:              continuous from 61 to 326.\n",
        " 18. fuel-system:              1bbl, 2bbl, 4bbl, idi, mfi, mpfi, spdi, spfi.\n",
        " 19. bore:                     continuous from 2.54 to 3.94.\n",
        " 20. stroke:                   continuous from 2.07 to 4.17.\n",
        " 21. compression-ratio:        continuous from 7 to 23.\n",
        " 22. horsepower:               continuous from 48 to 288.\n",
        " 23. peak-rpm:                 continuous from 4150 to 6600.\n",
        " 24. city-mpg:                 continuous from 13 to 49.\n",
        " 25. highway-mpg:              continuous from 16 to 54.\n",
        " 26. price:                    continuous from 5118 to 45400.\n",
        "\n",
        "8. Missing Attribute Values: (denoted by \"?\")"
      ]
    },
    {
      "cell_type": "markdown",
      "id": "b5a7df56",
      "metadata": {
        "id": "b5a7df56"
      },
      "source": [
        "# 2. Preprocessing"
      ]
    },
    {
      "cell_type": "code",
      "execution_count": null,
      "id": "4e54c4be",
      "metadata": {
        "id": "4e54c4be"
      },
      "outputs": [],
      "source": [
        "## Add libraries to use\n",
        "import numpy as np\n",
        "import pandas as pd\n",
        "from sklearn import metrics\n",
        "from sklearn.model_selection import train_test_split\n",
        "from sklearn.linear_model import LogisticRegression\n",
        "from sklearn.metrics import confusion_matrix, classification_report, roc_auc_score, accuracy_score\n",
        "from sklearn.naive_bayes import GaussianNB\n",
        "from sklearn.neighbors import KNeighborsClassifier\n",
        "import matplotlib.pyplot as plt\n",
        "from sklearn.ensemble import RandomForestClassifier\n",
        "from sklearn.svm import SVC\n",
        "import seaborn as sns\n",
        "import matplotlib.pyplot as plt"
      ]
    },
    {
      "cell_type": "code",
      "execution_count": null,
      "id": "303ca496",
      "metadata": {
        "id": "303ca496"
      },
      "outputs": [],
      "source": [
        "df2 = pd.read_csv('auto_imp.csv')"
      ]
    },
    {
      "cell_type": "code",
      "execution_count": null,
      "id": "49f9f426",
      "metadata": {
        "id": "49f9f426",
        "outputId": "af69ca13-fefa-47a5-93f8-d440b507a909"
      },
      "outputs": [
        {
          "name": "stdout",
          "output_type": "stream",
          "text": [
            "<class 'pandas.core.frame.DataFrame'>\n",
            "RangeIndex: 195 entries, 0 to 194\n",
            "Data columns (total 15 columns):\n",
            " #   Column       Non-Null Count  Dtype  \n",
            "---  ------       --------------  -----  \n",
            " 0   fuel_type    195 non-null    object \n",
            " 1   wheel_base   195 non-null    float64\n",
            " 2   length       195 non-null    float64\n",
            " 3   width        195 non-null    float64\n",
            " 4   heights      195 non-null    float64\n",
            " 5   curb_weight  195 non-null    int64  \n",
            " 6   engine_size  195 non-null    int64  \n",
            " 7   bore         195 non-null    float64\n",
            " 8   stroke       195 non-null    float64\n",
            " 9   comprassion  195 non-null    float64\n",
            " 10  horse_power  195 non-null    int64  \n",
            " 11  peak_rpm     195 non-null    int64  \n",
            " 12  city_mpg     195 non-null    int64  \n",
            " 13  highway_mpg  195 non-null    int64  \n",
            " 14  price        195 non-null    int64  \n",
            "dtypes: float64(7), int64(7), object(1)\n",
            "memory usage: 23.0+ KB\n"
          ]
        }
      ],
      "source": [
        "df2.info()"
      ]
    },
    {
      "cell_type": "markdown",
      "id": "7356dab7",
      "metadata": {
        "id": "7356dab7"
      },
      "source": [
        "## 2.1 **Replace ['gas', 'diesel'] string values to [0, 1]**"
      ]
    },
    {
      "cell_type": "code",
      "execution_count": null,
      "id": "127b23b0",
      "metadata": {
        "id": "127b23b0"
      },
      "outputs": [],
      "source": [
        "df2['fuel_type'].replace({'gas': 0, 'diesel': 1}, inplace=True)"
      ]
    },
    {
      "cell_type": "code",
      "execution_count": null,
      "id": "91e32dd6",
      "metadata": {
        "id": "91e32dd6",
        "outputId": "7e3efde9-fc52-48bd-e5aa-50ecc8dcbcfb"
      },
      "outputs": [
        {
          "data": {
            "text/html": [
              "<div>\n",
              "<style scoped>\n",
              "    .dataframe tbody tr th:only-of-type {\n",
              "        vertical-align: middle;\n",
              "    }\n",
              "\n",
              "    .dataframe tbody tr th {\n",
              "        vertical-align: top;\n",
              "    }\n",
              "\n",
              "    .dataframe thead th {\n",
              "        text-align: right;\n",
              "    }\n",
              "</style>\n",
              "<table border=\"1\" class=\"dataframe\">\n",
              "  <thead>\n",
              "    <tr style=\"text-align: right;\">\n",
              "      <th></th>\n",
              "      <th>fuel_type</th>\n",
              "      <th>wheel_base</th>\n",
              "      <th>length</th>\n",
              "      <th>width</th>\n",
              "      <th>heights</th>\n",
              "      <th>curb_weight</th>\n",
              "      <th>engine_size</th>\n",
              "      <th>bore</th>\n",
              "      <th>stroke</th>\n",
              "      <th>comprassion</th>\n",
              "      <th>horse_power</th>\n",
              "      <th>peak_rpm</th>\n",
              "      <th>city_mpg</th>\n",
              "      <th>highway_mpg</th>\n",
              "      <th>price</th>\n",
              "    </tr>\n",
              "  </thead>\n",
              "  <tbody>\n",
              "    <tr>\n",
              "      <th>0</th>\n",
              "      <td>0</td>\n",
              "      <td>88.6</td>\n",
              "      <td>168.8</td>\n",
              "      <td>64.1</td>\n",
              "      <td>48.8</td>\n",
              "      <td>2548</td>\n",
              "      <td>130</td>\n",
              "      <td>3.47</td>\n",
              "      <td>2.68</td>\n",
              "      <td>9.0</td>\n",
              "      <td>111</td>\n",
              "      <td>5000</td>\n",
              "      <td>21</td>\n",
              "      <td>27</td>\n",
              "      <td>13495</td>\n",
              "    </tr>\n",
              "    <tr>\n",
              "      <th>1</th>\n",
              "      <td>0</td>\n",
              "      <td>88.6</td>\n",
              "      <td>168.8</td>\n",
              "      <td>64.1</td>\n",
              "      <td>48.8</td>\n",
              "      <td>2548</td>\n",
              "      <td>130</td>\n",
              "      <td>3.47</td>\n",
              "      <td>2.68</td>\n",
              "      <td>9.0</td>\n",
              "      <td>111</td>\n",
              "      <td>5000</td>\n",
              "      <td>21</td>\n",
              "      <td>27</td>\n",
              "      <td>16500</td>\n",
              "    </tr>\n",
              "    <tr>\n",
              "      <th>2</th>\n",
              "      <td>0</td>\n",
              "      <td>94.5</td>\n",
              "      <td>171.2</td>\n",
              "      <td>65.5</td>\n",
              "      <td>52.4</td>\n",
              "      <td>2823</td>\n",
              "      <td>152</td>\n",
              "      <td>2.68</td>\n",
              "      <td>3.47</td>\n",
              "      <td>9.0</td>\n",
              "      <td>154</td>\n",
              "      <td>5000</td>\n",
              "      <td>19</td>\n",
              "      <td>26</td>\n",
              "      <td>16500</td>\n",
              "    </tr>\n",
              "    <tr>\n",
              "      <th>3</th>\n",
              "      <td>0</td>\n",
              "      <td>99.8</td>\n",
              "      <td>176.6</td>\n",
              "      <td>66.2</td>\n",
              "      <td>54.3</td>\n",
              "      <td>2337</td>\n",
              "      <td>109</td>\n",
              "      <td>3.19</td>\n",
              "      <td>3.40</td>\n",
              "      <td>10.0</td>\n",
              "      <td>102</td>\n",
              "      <td>5500</td>\n",
              "      <td>24</td>\n",
              "      <td>30</td>\n",
              "      <td>13950</td>\n",
              "    </tr>\n",
              "    <tr>\n",
              "      <th>4</th>\n",
              "      <td>0</td>\n",
              "      <td>99.4</td>\n",
              "      <td>176.6</td>\n",
              "      <td>66.4</td>\n",
              "      <td>54.3</td>\n",
              "      <td>2824</td>\n",
              "      <td>136</td>\n",
              "      <td>3.19</td>\n",
              "      <td>3.40</td>\n",
              "      <td>8.0</td>\n",
              "      <td>115</td>\n",
              "      <td>5500</td>\n",
              "      <td>18</td>\n",
              "      <td>22</td>\n",
              "      <td>17450</td>\n",
              "    </tr>\n",
              "    <tr>\n",
              "      <th>...</th>\n",
              "      <td>...</td>\n",
              "      <td>...</td>\n",
              "      <td>...</td>\n",
              "      <td>...</td>\n",
              "      <td>...</td>\n",
              "      <td>...</td>\n",
              "      <td>...</td>\n",
              "      <td>...</td>\n",
              "      <td>...</td>\n",
              "      <td>...</td>\n",
              "      <td>...</td>\n",
              "      <td>...</td>\n",
              "      <td>...</td>\n",
              "      <td>...</td>\n",
              "      <td>...</td>\n",
              "    </tr>\n",
              "    <tr>\n",
              "      <th>190</th>\n",
              "      <td>0</td>\n",
              "      <td>109.1</td>\n",
              "      <td>188.8</td>\n",
              "      <td>68.9</td>\n",
              "      <td>55.5</td>\n",
              "      <td>2952</td>\n",
              "      <td>141</td>\n",
              "      <td>3.78</td>\n",
              "      <td>3.15</td>\n",
              "      <td>9.5</td>\n",
              "      <td>114</td>\n",
              "      <td>5400</td>\n",
              "      <td>23</td>\n",
              "      <td>28</td>\n",
              "      <td>16845</td>\n",
              "    </tr>\n",
              "    <tr>\n",
              "      <th>191</th>\n",
              "      <td>0</td>\n",
              "      <td>109.1</td>\n",
              "      <td>188.8</td>\n",
              "      <td>68.8</td>\n",
              "      <td>55.5</td>\n",
              "      <td>3049</td>\n",
              "      <td>141</td>\n",
              "      <td>3.78</td>\n",
              "      <td>3.15</td>\n",
              "      <td>8.7</td>\n",
              "      <td>160</td>\n",
              "      <td>5300</td>\n",
              "      <td>19</td>\n",
              "      <td>25</td>\n",
              "      <td>19045</td>\n",
              "    </tr>\n",
              "    <tr>\n",
              "      <th>192</th>\n",
              "      <td>0</td>\n",
              "      <td>109.1</td>\n",
              "      <td>188.8</td>\n",
              "      <td>68.9</td>\n",
              "      <td>55.5</td>\n",
              "      <td>3012</td>\n",
              "      <td>173</td>\n",
              "      <td>3.58</td>\n",
              "      <td>2.87</td>\n",
              "      <td>8.8</td>\n",
              "      <td>134</td>\n",
              "      <td>5500</td>\n",
              "      <td>18</td>\n",
              "      <td>23</td>\n",
              "      <td>21485</td>\n",
              "    </tr>\n",
              "    <tr>\n",
              "      <th>193</th>\n",
              "      <td>1</td>\n",
              "      <td>109.1</td>\n",
              "      <td>188.8</td>\n",
              "      <td>68.9</td>\n",
              "      <td>55.5</td>\n",
              "      <td>3217</td>\n",
              "      <td>145</td>\n",
              "      <td>3.01</td>\n",
              "      <td>3.40</td>\n",
              "      <td>23.0</td>\n",
              "      <td>106</td>\n",
              "      <td>4800</td>\n",
              "      <td>26</td>\n",
              "      <td>27</td>\n",
              "      <td>22470</td>\n",
              "    </tr>\n",
              "    <tr>\n",
              "      <th>194</th>\n",
              "      <td>0</td>\n",
              "      <td>109.1</td>\n",
              "      <td>188.8</td>\n",
              "      <td>68.9</td>\n",
              "      <td>55.5</td>\n",
              "      <td>3062</td>\n",
              "      <td>141</td>\n",
              "      <td>3.78</td>\n",
              "      <td>3.15</td>\n",
              "      <td>9.5</td>\n",
              "      <td>114</td>\n",
              "      <td>5400</td>\n",
              "      <td>19</td>\n",
              "      <td>25</td>\n",
              "      <td>22625</td>\n",
              "    </tr>\n",
              "  </tbody>\n",
              "</table>\n",
              "<p>195 rows × 15 columns</p>\n",
              "</div>"
            ],
            "text/plain": [
              "     fuel_type  wheel_base  length  width  heights  curb_weight  engine_size  \\\n",
              "0            0        88.6   168.8   64.1     48.8         2548          130   \n",
              "1            0        88.6   168.8   64.1     48.8         2548          130   \n",
              "2            0        94.5   171.2   65.5     52.4         2823          152   \n",
              "3            0        99.8   176.6   66.2     54.3         2337          109   \n",
              "4            0        99.4   176.6   66.4     54.3         2824          136   \n",
              "..         ...         ...     ...    ...      ...          ...          ...   \n",
              "190          0       109.1   188.8   68.9     55.5         2952          141   \n",
              "191          0       109.1   188.8   68.8     55.5         3049          141   \n",
              "192          0       109.1   188.8   68.9     55.5         3012          173   \n",
              "193          1       109.1   188.8   68.9     55.5         3217          145   \n",
              "194          0       109.1   188.8   68.9     55.5         3062          141   \n",
              "\n",
              "     bore  stroke  comprassion  horse_power  peak_rpm  city_mpg  highway_mpg  \\\n",
              "0    3.47    2.68          9.0          111      5000        21           27   \n",
              "1    3.47    2.68          9.0          111      5000        21           27   \n",
              "2    2.68    3.47          9.0          154      5000        19           26   \n",
              "3    3.19    3.40         10.0          102      5500        24           30   \n",
              "4    3.19    3.40          8.0          115      5500        18           22   \n",
              "..    ...     ...          ...          ...       ...       ...          ...   \n",
              "190  3.78    3.15          9.5          114      5400        23           28   \n",
              "191  3.78    3.15          8.7          160      5300        19           25   \n",
              "192  3.58    2.87          8.8          134      5500        18           23   \n",
              "193  3.01    3.40         23.0          106      4800        26           27   \n",
              "194  3.78    3.15          9.5          114      5400        19           25   \n",
              "\n",
              "     price  \n",
              "0    13495  \n",
              "1    16500  \n",
              "2    16500  \n",
              "3    13950  \n",
              "4    17450  \n",
              "..     ...  \n",
              "190  16845  \n",
              "191  19045  \n",
              "192  21485  \n",
              "193  22470  \n",
              "194  22625  \n",
              "\n",
              "[195 rows x 15 columns]"
            ]
          },
          "execution_count": 104,
          "metadata": {},
          "output_type": "execute_result"
        }
      ],
      "source": [
        "df2"
      ]
    },
    {
      "cell_type": "markdown",
      "id": "c3851124",
      "metadata": {
        "id": "c3851124"
      },
      "source": [
        "## 2.2 : Define your X and y: your dependent variable is fuel_type, the rest of the variables are your independent variables"
      ]
    },
    {
      "cell_type": "code",
      "execution_count": null,
      "id": "f3735085",
      "metadata": {
        "id": "f3735085",
        "outputId": "22b37c33-a1ca-4128-b149-650e812c3e85"
      },
      "outputs": [
        {
          "name": "stdout",
          "output_type": "stream",
          "text": [
            "Shape of X: (195, 14)\n",
            "Shape of y: (195,)\n",
            "     wheel_base  length  width  heights  curb_weight  engine_size  bore  \\\n",
            "0          88.6   168.8   64.1     48.8         2548          130  3.47   \n",
            "1          88.6   168.8   64.1     48.8         2548          130  3.47   \n",
            "2          94.5   171.2   65.5     52.4         2823          152  2.68   \n",
            "3          99.8   176.6   66.2     54.3         2337          109  3.19   \n",
            "4          99.4   176.6   66.4     54.3         2824          136  3.19   \n",
            "..          ...     ...    ...      ...          ...          ...   ...   \n",
            "190       109.1   188.8   68.9     55.5         2952          141  3.78   \n",
            "191       109.1   188.8   68.8     55.5         3049          141  3.78   \n",
            "192       109.1   188.8   68.9     55.5         3012          173  3.58   \n",
            "193       109.1   188.8   68.9     55.5         3217          145  3.01   \n",
            "194       109.1   188.8   68.9     55.5         3062          141  3.78   \n",
            "\n",
            "     stroke  comprassion  horse_power  peak_rpm  city_mpg  highway_mpg  price  \n",
            "0      2.68          9.0          111      5000        21           27  13495  \n",
            "1      2.68          9.0          111      5000        21           27  16500  \n",
            "2      3.47          9.0          154      5000        19           26  16500  \n",
            "3      3.40         10.0          102      5500        24           30  13950  \n",
            "4      3.40          8.0          115      5500        18           22  17450  \n",
            "..      ...          ...          ...       ...       ...          ...    ...  \n",
            "190    3.15          9.5          114      5400        23           28  16845  \n",
            "191    3.15          8.7          160      5300        19           25  19045  \n",
            "192    2.87          8.8          134      5500        18           23  21485  \n",
            "193    3.40         23.0          106      4800        26           27  22470  \n",
            "194    3.15          9.5          114      5400        19           25  22625  \n",
            "\n",
            "[195 rows x 14 columns]\n",
            "0      0\n",
            "1      0\n",
            "2      0\n",
            "3      0\n",
            "4      0\n",
            "      ..\n",
            "190    0\n",
            "191    0\n",
            "192    0\n",
            "193    1\n",
            "194    0\n",
            "Name: fuel_type, Length: 195, dtype: int64\n"
          ]
        }
      ],
      "source": [
        "# define X and y\n",
        "X = df2.drop('fuel_type', axis=1)  # drop the fuel_type column from X\n",
        "y = df2['fuel_type']\n",
        "\n",
        "# print the shapes of X and y\n",
        "print('Shape of X:', X.shape)\n",
        "print('Shape of y:', y.shape)\n",
        "print(X)\n",
        "print(y)"
      ]
    },
    {
      "cell_type": "markdown",
      "id": "cf86f4df",
      "metadata": {
        "id": "cf86f4df"
      },
      "source": [
        "## 2.3 Split your data into training and testing set. Use test_size=0.3, random_state=746 !"
      ]
    },
    {
      "cell_type": "code",
      "execution_count": null,
      "id": "2e6c1b4f",
      "metadata": {
        "id": "2e6c1b4f",
        "outputId": "b024f354-29c9-4481-eb6b-554a4b7a6e77"
      },
      "outputs": [
        {
          "name": "stdout",
          "output_type": "stream",
          "text": [
            "Shape of X_train: (136, 14)\n",
            "Shape of X_test: (59, 14)\n",
            "Shape of y_train: (136,)\n",
            "Shape of y_test: (59,)\n"
          ]
        },
        {
          "data": {
            "text/html": [
              "<div>\n",
              "<style scoped>\n",
              "    .dataframe tbody tr th:only-of-type {\n",
              "        vertical-align: middle;\n",
              "    }\n",
              "\n",
              "    .dataframe tbody tr th {\n",
              "        vertical-align: top;\n",
              "    }\n",
              "\n",
              "    .dataframe thead th {\n",
              "        text-align: right;\n",
              "    }\n",
              "</style>\n",
              "<table border=\"1\" class=\"dataframe\">\n",
              "  <thead>\n",
              "    <tr style=\"text-align: right;\">\n",
              "      <th></th>\n",
              "      <th>fuel_type</th>\n",
              "      <th>wheel_base</th>\n",
              "      <th>length</th>\n",
              "      <th>width</th>\n",
              "      <th>heights</th>\n",
              "      <th>curb_weight</th>\n",
              "      <th>engine_size</th>\n",
              "      <th>bore</th>\n",
              "      <th>stroke</th>\n",
              "      <th>comprassion</th>\n",
              "      <th>horse_power</th>\n",
              "      <th>peak_rpm</th>\n",
              "      <th>city_mpg</th>\n",
              "      <th>highway_mpg</th>\n",
              "      <th>price</th>\n",
              "    </tr>\n",
              "  </thead>\n",
              "  <tbody>\n",
              "    <tr>\n",
              "      <th>0</th>\n",
              "      <td>0</td>\n",
              "      <td>88.6</td>\n",
              "      <td>168.8</td>\n",
              "      <td>64.1</td>\n",
              "      <td>48.8</td>\n",
              "      <td>2548</td>\n",
              "      <td>130</td>\n",
              "      <td>3.47</td>\n",
              "      <td>2.68</td>\n",
              "      <td>9.0</td>\n",
              "      <td>111</td>\n",
              "      <td>5000</td>\n",
              "      <td>21</td>\n",
              "      <td>27</td>\n",
              "      <td>13495</td>\n",
              "    </tr>\n",
              "    <tr>\n",
              "      <th>1</th>\n",
              "      <td>0</td>\n",
              "      <td>88.6</td>\n",
              "      <td>168.8</td>\n",
              "      <td>64.1</td>\n",
              "      <td>48.8</td>\n",
              "      <td>2548</td>\n",
              "      <td>130</td>\n",
              "      <td>3.47</td>\n",
              "      <td>2.68</td>\n",
              "      <td>9.0</td>\n",
              "      <td>111</td>\n",
              "      <td>5000</td>\n",
              "      <td>21</td>\n",
              "      <td>27</td>\n",
              "      <td>16500</td>\n",
              "    </tr>\n",
              "    <tr>\n",
              "      <th>2</th>\n",
              "      <td>0</td>\n",
              "      <td>94.5</td>\n",
              "      <td>171.2</td>\n",
              "      <td>65.5</td>\n",
              "      <td>52.4</td>\n",
              "      <td>2823</td>\n",
              "      <td>152</td>\n",
              "      <td>2.68</td>\n",
              "      <td>3.47</td>\n",
              "      <td>9.0</td>\n",
              "      <td>154</td>\n",
              "      <td>5000</td>\n",
              "      <td>19</td>\n",
              "      <td>26</td>\n",
              "      <td>16500</td>\n",
              "    </tr>\n",
              "    <tr>\n",
              "      <th>3</th>\n",
              "      <td>0</td>\n",
              "      <td>99.8</td>\n",
              "      <td>176.6</td>\n",
              "      <td>66.2</td>\n",
              "      <td>54.3</td>\n",
              "      <td>2337</td>\n",
              "      <td>109</td>\n",
              "      <td>3.19</td>\n",
              "      <td>3.40</td>\n",
              "      <td>10.0</td>\n",
              "      <td>102</td>\n",
              "      <td>5500</td>\n",
              "      <td>24</td>\n",
              "      <td>30</td>\n",
              "      <td>13950</td>\n",
              "    </tr>\n",
              "    <tr>\n",
              "      <th>4</th>\n",
              "      <td>0</td>\n",
              "      <td>99.4</td>\n",
              "      <td>176.6</td>\n",
              "      <td>66.4</td>\n",
              "      <td>54.3</td>\n",
              "      <td>2824</td>\n",
              "      <td>136</td>\n",
              "      <td>3.19</td>\n",
              "      <td>3.40</td>\n",
              "      <td>8.0</td>\n",
              "      <td>115</td>\n",
              "      <td>5500</td>\n",
              "      <td>18</td>\n",
              "      <td>22</td>\n",
              "      <td>17450</td>\n",
              "    </tr>\n",
              "    <tr>\n",
              "      <th>...</th>\n",
              "      <td>...</td>\n",
              "      <td>...</td>\n",
              "      <td>...</td>\n",
              "      <td>...</td>\n",
              "      <td>...</td>\n",
              "      <td>...</td>\n",
              "      <td>...</td>\n",
              "      <td>...</td>\n",
              "      <td>...</td>\n",
              "      <td>...</td>\n",
              "      <td>...</td>\n",
              "      <td>...</td>\n",
              "      <td>...</td>\n",
              "      <td>...</td>\n",
              "      <td>...</td>\n",
              "    </tr>\n",
              "    <tr>\n",
              "      <th>190</th>\n",
              "      <td>0</td>\n",
              "      <td>109.1</td>\n",
              "      <td>188.8</td>\n",
              "      <td>68.9</td>\n",
              "      <td>55.5</td>\n",
              "      <td>2952</td>\n",
              "      <td>141</td>\n",
              "      <td>3.78</td>\n",
              "      <td>3.15</td>\n",
              "      <td>9.5</td>\n",
              "      <td>114</td>\n",
              "      <td>5400</td>\n",
              "      <td>23</td>\n",
              "      <td>28</td>\n",
              "      <td>16845</td>\n",
              "    </tr>\n",
              "    <tr>\n",
              "      <th>191</th>\n",
              "      <td>0</td>\n",
              "      <td>109.1</td>\n",
              "      <td>188.8</td>\n",
              "      <td>68.8</td>\n",
              "      <td>55.5</td>\n",
              "      <td>3049</td>\n",
              "      <td>141</td>\n",
              "      <td>3.78</td>\n",
              "      <td>3.15</td>\n",
              "      <td>8.7</td>\n",
              "      <td>160</td>\n",
              "      <td>5300</td>\n",
              "      <td>19</td>\n",
              "      <td>25</td>\n",
              "      <td>19045</td>\n",
              "    </tr>\n",
              "    <tr>\n",
              "      <th>192</th>\n",
              "      <td>0</td>\n",
              "      <td>109.1</td>\n",
              "      <td>188.8</td>\n",
              "      <td>68.9</td>\n",
              "      <td>55.5</td>\n",
              "      <td>3012</td>\n",
              "      <td>173</td>\n",
              "      <td>3.58</td>\n",
              "      <td>2.87</td>\n",
              "      <td>8.8</td>\n",
              "      <td>134</td>\n",
              "      <td>5500</td>\n",
              "      <td>18</td>\n",
              "      <td>23</td>\n",
              "      <td>21485</td>\n",
              "    </tr>\n",
              "    <tr>\n",
              "      <th>193</th>\n",
              "      <td>1</td>\n",
              "      <td>109.1</td>\n",
              "      <td>188.8</td>\n",
              "      <td>68.9</td>\n",
              "      <td>55.5</td>\n",
              "      <td>3217</td>\n",
              "      <td>145</td>\n",
              "      <td>3.01</td>\n",
              "      <td>3.40</td>\n",
              "      <td>23.0</td>\n",
              "      <td>106</td>\n",
              "      <td>4800</td>\n",
              "      <td>26</td>\n",
              "      <td>27</td>\n",
              "      <td>22470</td>\n",
              "    </tr>\n",
              "    <tr>\n",
              "      <th>194</th>\n",
              "      <td>0</td>\n",
              "      <td>109.1</td>\n",
              "      <td>188.8</td>\n",
              "      <td>68.9</td>\n",
              "      <td>55.5</td>\n",
              "      <td>3062</td>\n",
              "      <td>141</td>\n",
              "      <td>3.78</td>\n",
              "      <td>3.15</td>\n",
              "      <td>9.5</td>\n",
              "      <td>114</td>\n",
              "      <td>5400</td>\n",
              "      <td>19</td>\n",
              "      <td>25</td>\n",
              "      <td>22625</td>\n",
              "    </tr>\n",
              "  </tbody>\n",
              "</table>\n",
              "<p>195 rows × 15 columns</p>\n",
              "</div>"
            ],
            "text/plain": [
              "     fuel_type  wheel_base  length  width  heights  curb_weight  engine_size  \\\n",
              "0            0        88.6   168.8   64.1     48.8         2548          130   \n",
              "1            0        88.6   168.8   64.1     48.8         2548          130   \n",
              "2            0        94.5   171.2   65.5     52.4         2823          152   \n",
              "3            0        99.8   176.6   66.2     54.3         2337          109   \n",
              "4            0        99.4   176.6   66.4     54.3         2824          136   \n",
              "..         ...         ...     ...    ...      ...          ...          ...   \n",
              "190          0       109.1   188.8   68.9     55.5         2952          141   \n",
              "191          0       109.1   188.8   68.8     55.5         3049          141   \n",
              "192          0       109.1   188.8   68.9     55.5         3012          173   \n",
              "193          1       109.1   188.8   68.9     55.5         3217          145   \n",
              "194          0       109.1   188.8   68.9     55.5         3062          141   \n",
              "\n",
              "     bore  stroke  comprassion  horse_power  peak_rpm  city_mpg  highway_mpg  \\\n",
              "0    3.47    2.68          9.0          111      5000        21           27   \n",
              "1    3.47    2.68          9.0          111      5000        21           27   \n",
              "2    2.68    3.47          9.0          154      5000        19           26   \n",
              "3    3.19    3.40         10.0          102      5500        24           30   \n",
              "4    3.19    3.40          8.0          115      5500        18           22   \n",
              "..    ...     ...          ...          ...       ...       ...          ...   \n",
              "190  3.78    3.15          9.5          114      5400        23           28   \n",
              "191  3.78    3.15          8.7          160      5300        19           25   \n",
              "192  3.58    2.87          8.8          134      5500        18           23   \n",
              "193  3.01    3.40         23.0          106      4800        26           27   \n",
              "194  3.78    3.15          9.5          114      5400        19           25   \n",
              "\n",
              "     price  \n",
              "0    13495  \n",
              "1    16500  \n",
              "2    16500  \n",
              "3    13950  \n",
              "4    17450  \n",
              "..     ...  \n",
              "190  16845  \n",
              "191  19045  \n",
              "192  21485  \n",
              "193  22470  \n",
              "194  22625  \n",
              "\n",
              "[195 rows x 15 columns]"
            ]
          },
          "execution_count": 106,
          "metadata": {},
          "output_type": "execute_result"
        }
      ],
      "source": [
        "# split the data into training and testing sets\n",
        "X_train, X_test, y_train, y_test = train_test_split(X, y, test_size=0.3, random_state=746)\n",
        "\n",
        "# print the shapes of the resulting sets\n",
        "print('Shape of X_train:', X_train.shape)\n",
        "print('Shape of X_test:', X_test.shape)\n",
        "print('Shape of y_train:', y_train.shape)\n",
        "print('Shape of y_test:', y_test.shape)\n",
        "df2"
      ]
    },
    {
      "cell_type": "markdown",
      "id": "4ad2fd64",
      "metadata": {
        "id": "4ad2fd64"
      },
      "source": [
        "# 3. Classification"
      ]
    },
    {
      "cell_type": "markdown",
      "id": "35ea935a",
      "metadata": {
        "id": "35ea935a"
      },
      "source": [
        "### 3.1 Use Logistic regression to classify your data. Print/report your confusion matrix, classification report and AUC, what do you notice?"
      ]
    },
    {
      "cell_type": "code",
      "execution_count": null,
      "id": "12be97c0",
      "metadata": {
        "id": "12be97c0",
        "outputId": "a7fc8414-885d-4d40-9454-c3846cca847e"
      },
      "outputs": [
        {
          "name": "stdout",
          "output_type": "stream",
          "text": [
            "Accuracy: 1.0\n",
            "F1 Score: 1.0\n",
            "Cohen Kappa: 1.0\n",
            "Confusion Matrix:\n",
            "[[50  0]\n",
            " [ 0  9]]\n",
            "Classification Report:\n",
            "              precision    recall  f1-score   support\n",
            "\n",
            "           0       1.00      1.00      1.00        50\n",
            "           1       1.00      1.00      1.00         9\n",
            "\n",
            "    accuracy                           1.00        59\n",
            "   macro avg       1.00      1.00      1.00        59\n",
            "weighted avg       1.00      1.00      1.00        59\n",
            "\n",
            "AUC: 1.00\n"
          ]
        }
      ],
      "source": [
        "logReg=LogisticRegression(solver='lbfgs', max_iter=1000)\n",
        "model_logReg=logReg.fit(X_train,y_train)\n",
        "# Make predictions with the classifier:\n",
        "y_pred = logReg.predict(X_test)\n",
        "matrix=confusion_matrix(y_test, y_pred)\n",
        "# Evaluate label (subsets) accuracy:\n",
        "print(\"Accuracy:\", accuracy_score(y_test, y_pred))\n",
        "print(\"F1 Score:\", metrics.f1_score(y_test, y_pred))\n",
        "print(\"Cohen Kappa:\", metrics.cohen_kappa_score(y_test, y_pred))\n",
        "print(\"Confusion Matrix:\")\n",
        "print(confusion_matrix(y_test, y_pred))\n",
        "print(\"Classification Report:\")\n",
        "print(classification_report(y_test, y_pred))\n",
        "auc_score3 = roc_auc_score(y_test,y_pred)\n",
        "print('AUC: %.2f' % auc_score3)"
      ]
    },
    {
      "cell_type": "code",
      "execution_count": null,
      "id": "a50f80df",
      "metadata": {
        "id": "a50f80df",
        "outputId": "3c3a98d2-1de8-4bca-bb92-94a9d26d9b12"
      },
      "outputs": [
        {
          "data": {
            "image/png": "[encoded data removed]",
            "text/plain": [
              "<Figure size 640x480 with 2 Axes>"
            ]
          },
          "metadata": {},
          "output_type": "display_data"
        }
      ],
      "source": [
        "ax = sns.heatmap(matrix, annot=True, cmap='Oranges')\n",
        "\n",
        "ax.set_title('Logistic Regression Confusion Matrix with labels\\n\\n');\n",
        "ax.set_xlabel('\\nPredicted Values')\n",
        "ax.set_ylabel('Actual Values ');\n",
        "\n",
        "## Ticket labels - List must be in alphabetical order\n",
        "ax.xaxis.set_ticklabels(['False','True'])\n",
        "ax.yaxis.set_ticklabels(['False','True'])\n",
        "\n",
        "## Display the visualization of the Confusion Matrix.\n",
        "plt.savefig(\"logReg.jpg\")\n",
        "plt.show()"
      ]
    },
    {
      "cell_type": "markdown",
      "id": "61e22146",
      "metadata": {
        "id": "61e22146"
      },
      "source": [
        "Logistic regression: It is a type of supervised learning. Logistic regression models can help teams identify data anomalies. Logistic Regression is a Machine Learning classification algorithm that is used to predict the probability of a categorical dependent variable.\n",
        "Here,\n",
        "\n",
        "Accuracy is perfect i.e., 1.0;\n",
        "Area under the curve is 1.0;\n",
        "F1 score is 1.0;\n",
        "Cohen Kappa is 1.0"
      ]
    },
    {
      "cell_type": "markdown",
      "id": "2d3360f1",
      "metadata": {
        "id": "2d3360f1"
      },
      "source": [
        "### 3.2 Use Naive Bayes to classify your data. Print/report your confusion matrix, classification report and AUC. What do you notice?"
      ]
    },
    {
      "cell_type": "code",
      "execution_count": null,
      "id": "149d7c1a",
      "metadata": {
        "id": "149d7c1a",
        "outputId": "73113073-fc80-456e-b73a-143290578406"
      },
      "outputs": [
        {
          "name": "stdout",
          "output_type": "stream",
          "text": [
            "Accuracy: 1.0\n",
            "F1 Score: 1.0\n",
            "Cohen Kappa: 1.0\n",
            "Confusion Matrix:\n",
            "[[50  0]\n",
            " [ 0  9]]\n",
            "Classification Report:\n",
            "              precision    recall  f1-score   support\n",
            "\n",
            "           0       1.00      1.00      1.00        50\n",
            "           1       1.00      1.00      1.00         9\n",
            "\n",
            "    accuracy                           1.00        59\n",
            "   macro avg       1.00      1.00      1.00        59\n",
            "weighted avg       1.00      1.00      1.00        59\n",
            "\n",
            "AUC: 1.00\n"
          ]
        }
      ],
      "source": [
        "# Initialize classifier:\n",
        "gNB = GaussianNB()\n",
        "# Train the classifier:\n",
        "model = gNB.fit(X_train, y_train)\n",
        "# Make predictions with the classifier:\n",
        "predictive_labels = gNB.predict(X_test)\n",
        "matrix=confusion_matrix(y_test, predictive_labels)\n",
        "# Evaluate label (subsets) accuracy:\n",
        "print(\"Accuracy:\", accuracy_score(y_test, predictive_labels))\n",
        "print(\"F1 Score:\", metrics.f1_score(y_test, predictive_labels))\n",
        "print(\"Cohen Kappa:\", metrics.cohen_kappa_score(y_test, predictive_labels))\n",
        "print(\"Confusion Matrix:\")\n",
        "print(confusion_matrix(y_test, predictive_labels))\n",
        "print(\"Classification Report:\")\n",
        "print(classification_report(y_test, predictive_labels))\n",
        "auc_score3 = roc_auc_score(y_test,predictive_labels)\n",
        "print('AUC: %.2f' % auc_score3)"
      ]
    },
    {
      "cell_type": "code",
      "execution_count": null,
      "id": "5985e79f",
      "metadata": {
        "id": "5985e79f",
        "outputId": "c0213778-05e9-4209-e081-8d38f1561cde"
      },
      "outputs": [
        {
          "data": {
            "image/png": "[encoded data removed]",
            "text/plain": [
              "<Figure size 640x480 with 2 Axes>"
            ]
          },
          "metadata": {},
          "output_type": "display_data"
        }
      ],
      "source": [
        "ax = sns.heatmap(matrix, annot=True, cmap='Greens')\n",
        "\n",
        "ax.set_title('Naive Bayes Confusion Matrix with labels\\n\\n');\n",
        "ax.set_xlabel('\\nPredicted Values')\n",
        "ax.set_ylabel('Actual Values ');\n",
        "\n",
        "## Ticket labels - List must be in alphabetical order\n",
        "ax.xaxis.set_ticklabels(['False','True'])\n",
        "ax.yaxis.set_ticklabels(['False','True'])\n",
        "\n",
        "## Display the visualization of the Confusion Matrix.\n",
        "plt.savefig(\"gNB.jpg\")\n",
        "plt.show()"
      ]
    },
    {
      "cell_type": "markdown",
      "id": "b8da73bc",
      "metadata": {
        "id": "b8da73bc"
      },
      "source": [
        "Naive Bayes: Naive Bayes methods are a set of supervised learning algorithms based on applying Bayes’ theorem with the “naive” assumption of conditional independence between every pair of features given the value of the class variable.\n",
        "Here,\n",
        "\n",
        "Accuracy is perfect i.e., 1.0; Area under the curve is 1.0; F1 score is 1.0; Cohen Kappa is 1.0\n",
        "These results are same as of Logistic regression"
      ]
    },
    {
      "cell_type": "markdown",
      "id": "c495f2d4",
      "metadata": {
        "id": "c495f2d4"
      },
      "source": [
        "### 3.3 Use KNN to classify your data. First find the optimal k and than run you classification. Print/report your confusion matrix, classification report and AUC. What do you notice?"
      ]
    },
    {
      "cell_type": "code",
      "execution_count": null,
      "id": "2dee3ff2",
      "metadata": {
        "id": "2dee3ff2",
        "outputId": "2e59310c-06fd-478d-cfc3-df8e43e6ad95"
      },
      "outputs": [
        {
          "data": {
            "image/png": "[encoded data removed]",
            "text/plain": [
              "<Figure size 1000x700 with 1 Axes>"
            ]
          },
          "metadata": {},
          "output_type": "display_data"
        }
      ],
      "source": [
        "#Find the optimal number of neighbors\n",
        "# Initialize an array that stores the error rates.\n",
        "error_rates = []\n",
        "\n",
        "for a in range(1, 30):\n",
        "    k = a\n",
        "    kNN = KNeighborsClassifier(n_neighbors=k)\n",
        "    kNN.fit(X_train, y_train)\n",
        "    preds = kNN.predict(X_test)\n",
        "    error_rates.append(np.mean(y_test - preds))\n",
        "#plot error rates against number of neighbors\n",
        "plt.figure(figsize=(10, 7))\n",
        "plt.plot(range(1,30),error_rates,color='blue', linestyle='dashed', marker='o',\n",
        "         markerfacecolor='red', markersize=10)\n",
        "plt.title('Error Rate vs. K Value')\n",
        "plt.xlabel('K')\n",
        "plt.ylabel('Error Rate')\n",
        "plt.savefig('knn.png')\n",
        "plt.show()\n"
      ]
    },
    {
      "cell_type": "markdown",
      "id": "1c37aa5a",
      "metadata": {
        "id": "1c37aa5a"
      },
      "source": [
        "The value of error is closest to 0 when k is 3. Thus we use k as 3"
      ]
    },
    {
      "cell_type": "code",
      "execution_count": null,
      "id": "26f286c8",
      "metadata": {
        "id": "26f286c8",
        "outputId": "c9e29882-e843-4477-fb85-944e926631c5"
      },
      "outputs": [
        {
          "name": "stdout",
          "output_type": "stream",
          "text": [
            "Accuracy: 0.8813559322033898\n",
            "F1 Score: 0.46153846153846156\n",
            "Cohen Kappa: 0.4057553956834532\n",
            "Confusion Matrix:\n",
            "[[49  1]\n",
            " [ 6  3]]\n",
            "Classification Report:\n",
            "              precision    recall  f1-score   support\n",
            "\n",
            "           0       0.89      0.98      0.93        50\n",
            "           1       0.75      0.33      0.46         9\n",
            "\n",
            "    accuracy                           0.88        59\n",
            "   macro avg       0.82      0.66      0.70        59\n",
            "weighted avg       0.87      0.88      0.86        59\n",
            "\n",
            "AUC: 0.66\n"
          ]
        }
      ],
      "source": [
        "#Train classifier on the optimal k that we chose from the plot\n",
        "k = 3\n",
        "kNN = KNeighborsClassifier(n_neighbors=k)\n",
        "kNN.fit(X_train, y_train)\n",
        "preds = kNN.predict(X_test)\n",
        "matrix=confusion_matrix(y_test, preds)\n",
        "#Classification report\n",
        "#from sklearn.metrics import confusion_matrix, classification_report\n",
        "print(\"Accuracy:\", accuracy_score(y_test, preds))\n",
        "print(\"F1 Score:\", metrics.f1_score(y_test, preds))\n",
        "print(\"Cohen Kappa:\", metrics.cohen_kappa_score(y_test, preds))\n",
        "print(\"Confusion Matrix:\")\n",
        "print(confusion_matrix(y_test, preds))\n",
        "print(\"Classification Report:\")\n",
        "print(classification_report(y_test, preds))\n",
        "auc_score2 = roc_auc_score(y_test,preds)\n",
        "print('AUC: %.2f' % auc_score2)"
      ]
    },
    {
      "cell_type": "code",
      "execution_count": null,
      "id": "e0974a17",
      "metadata": {
        "id": "e0974a17",
        "outputId": "c2fb8326-03af-4bc0-9d40-69ad2d10bab0"
      },
      "outputs": [
        {
          "data": {
            "image/png": "[encoded data removed]",
            "text/plain": [
              "<Figure size 640x480 with 2 Axes>"
            ]
          },
          "metadata": {},
          "output_type": "display_data"
        }
      ],
      "source": [
        "ax = sns.heatmap(matrix, annot=True, cmap='Purples')\n",
        "\n",
        "ax.set_title('KNN Confusion Matrix with labels\\n\\n');\n",
        "ax.set_xlabel('\\nPredicted Values')\n",
        "ax.set_ylabel('Actual Values ');\n",
        "\n",
        "## Ticket labels - List must be in alphabetical order\n",
        "ax.xaxis.set_ticklabels(['False','True'])\n",
        "ax.yaxis.set_ticklabels(['False','True'])\n",
        "\n",
        "## Display the visualization of the Confusion Matrix.\n",
        "plt.savefig(\"kNN.jpg\")\n",
        "plt.show()"
      ]
    },
    {
      "cell_type": "markdown",
      "id": "aa5a79a4",
      "metadata": {
        "id": "aa5a79a4"
      },
      "source": [
        "Knn : This algorithm is used to solve the classification model problems. K-nearest neighbor or K-NN algorithm basically creates an imaginary boundary to classify the data. When new data points come in, the algorithm will try to predict that to the nearest of the boundary line.\n",
        "\n",
        "It’s very important to have the right k-value when analyzing the dataset to avoid overfitting and underfitting of the dataset.\n",
        "\n",
        "Here,\n",
        "Accuracy is 0.864; Area under the curve is 0.56; F1 score is 0.1999; Cohen Kappa is 0.175\n",
        "These results are not same as of Logistic regression and Naive Bayes algorithm\n",
        "So, Logistic regression and Naive bayes algoorithm are better than KNN."
      ]
    },
    {
      "cell_type": "markdown",
      "id": "61c9fee8",
      "metadata": {
        "id": "61c9fee8"
      },
      "source": [
        "## 3.4  I have chosen Support vector machine (SVM) to classify data:\n"
      ]
    },
    {
      "cell_type": "code",
      "execution_count": null,
      "id": "e7b82419",
      "metadata": {
        "id": "e7b82419",
        "outputId": "6b123936-1a45-4dde-8c6a-2c51459c040d"
      },
      "outputs": [
        {
          "name": "stdout",
          "output_type": "stream",
          "text": [
            "Accuracy: 0.847457627118644\n",
            "F1 Score: 0.0\n",
            "Cohen Kappa: 0.0\n",
            "Precision: 0.0\n",
            "Recall: 0.0\n",
            "Confusion Matrix:\n",
            "[[50  0]\n",
            " [ 9  0]]\n",
            "              precision    recall  f1-score   support\n",
            "\n",
            "           0       0.85      1.00      0.92        50\n",
            "           1       0.00      0.00      0.00         9\n",
            "\n",
            "    accuracy                           0.85        59\n",
            "   macro avg       0.42      0.50      0.46        59\n",
            "weighted avg       0.72      0.85      0.78        59\n",
            "\n",
            "AUC: 0.50\n"
          ]
        }
      ],
      "source": [
        "clf = SVC()\n",
        "model=clf.fit(X_train, y_train)\n",
        "\n",
        "\n",
        "#Predict the response for test dataset\n",
        "y_pred = clf.predict(X_test)\n",
        "matrix2=confusion_matrix(y_test, y_pred)\n",
        "\n",
        "# Model Accuracy: how often is the classifier correct?\n",
        "print(\"Accuracy:\", accuracy_score(y_test, y_pred))\n",
        "print(\"F1 Score:\", metrics.f1_score(y_test, y_pred))\n",
        "print(\"Cohen Kappa:\", metrics.cohen_kappa_score(y_test, y_pred))\n",
        "\n",
        "# Model Precision: what percentage of positive tuples are labeled as such?\n",
        "print(\"Precision:\",metrics.precision_score(y_test, y_pred,zero_division=0))\n",
        "\n",
        "# Model Recall: what percentage of positive tuples are labelled as such?\n",
        "print(\"Recall:\",metrics.recall_score(y_test, y_pred))\n",
        "print(\"Confusion Matrix:\")\n",
        "print(confusion_matrix(y_test, y_pred))\n",
        "print(classification_report(y_test, y_pred,zero_division=0))\n",
        "auc_score5 = roc_auc_score(y_test, y_pred)\n",
        "print('AUC: %.2f' % auc_score5)"
      ]
    },
    {
      "cell_type": "code",
      "execution_count": null,
      "id": "7e33fa66",
      "metadata": {
        "id": "7e33fa66",
        "outputId": "856bbeec-fa02-4acf-9de2-976805be12a3"
      },
      "outputs": [
        {
          "data": {
            "image/png": "[encoded data removed]",
            "text/plain": [
              "<Figure size 640x480 with 2 Axes>"
            ]
          },
          "metadata": {},
          "output_type": "display_data"
        }
      ],
      "source": [
        "ax = sns.heatmap(matrix2, annot=True, cmap='Reds')\n",
        "\n",
        "ax.set_title('SVM Confusion Matrix with labels\\n\\n');\n",
        "ax.set_xlabel('\\nPredicted Values')\n",
        "ax.set_ylabel('Actual Values ');\n",
        "\n",
        "## Ticket labels - List must be in alphabetical order\n",
        "ax.xaxis.set_ticklabels(['False','True'])\n",
        "ax.yaxis.set_ticklabels(['False','True'])\n",
        "\n",
        "## Display the visualization of the Confusion Matrix.\n",
        "plt.savefig(\"clf.jpg\")\n",
        "plt.show()"
      ]
    },
    {
      "cell_type": "markdown",
      "id": "78b31eec",
      "metadata": {
        "id": "78b31eec"
      },
      "source": [
        "Support Vector Machine (SVM) : SVM is a supervised learning machine learning algorithm that can be used for both classification or regression challenges. SVMs are used in applications like handwriting recognition, intrusion detection, face detection, email classification, gene classification, and in web pages.\n",
        "\n",
        "Here,\n",
        "Accuracy is 0.8474 which is less than the KNN, logistic regression and Naive Bayes algorithm;\n",
        "Area under the curve is 0.5 which is less than the KNN, logistic regression and Naive Bayes algorithm\n",
        "F1 score is 0; Cohen Kappa is 0"
      ]
    },
    {
      "cell_type": "markdown",
      "id": "66c75879",
      "metadata": {
        "id": "66c75879"
      },
      "source": [
        "### 3.5 Comparision of results"
      ]
    },
    {
      "cell_type": "markdown",
      "id": "584eee32",
      "metadata": {
        "id": "584eee32"
      },
      "source": [
        "Comparing the results,\n",
        "\n",
        "a. Logistic Regression and Naive Bayes performed perfectly with 100% accuracy.\n",
        "\n",
        "b. We see that all models performed fairly well with AUC scores ranging from 0.5 to 1.\n",
        "\n",
        "c. However,Naive Bayes and Logistic regression models had the highest AUC score of 1, indicating that they have the best performance among the models.\n",
        "\n",
        "d. The SVM model had the lowest AUC score of 0.5.\n",
        "\n",
        "e. The KNN model had an optimal k value of 3 and an AUC score of 0.66. While the accuracy is decent, the model struggled to correctly classify instances."
      ]
    },
    {
      "cell_type": "markdown",
      "id": "d3740e1a",
      "metadata": {
        "id": "d3740e1a"
      },
      "source": [
        "## 4. Trying to fix the inbalanced nature of the data by running one of the classification methods (preferable one that \"failed\" before) and see if you get better results.**"
      ]
    },
    {
      "cell_type": "markdown",
      "id": "6c776b50",
      "metadata": {
        "id": "6c776b50"
      },
      "source": [
        "Since the KNN's performance is not good in terms of AUC, we will try to fix the imbalance of the data using the Oversampling method and rerun KNN."
      ]
    },
    {
      "cell_type": "code",
      "execution_count": null,
      "id": "57ae603a",
      "metadata": {
        "id": "57ae603a",
        "outputId": "85b0ed99-dd1f-4b9a-e0f1-40ba5b66f5e0"
      },
      "outputs": [
        {
          "name": "stdout",
          "output_type": "stream",
          "text": [
            "Accuracy: 0.8305084745762712\n",
            "F1 Score: 0.6153846153846153\n",
            "Cohen Kappa: 0.5195439739413681\n",
            "Confusion Matrix:\n",
            "[[41  9]\n",
            " [ 1  8]]\n",
            "Classification Report:\n",
            "              precision    recall  f1-score   support\n",
            "\n",
            "           0       0.98      0.82      0.89        50\n",
            "           1       0.47      0.89      0.62         9\n",
            "\n",
            "    accuracy                           0.83        59\n",
            "   macro avg       0.72      0.85      0.75        59\n",
            "weighted avg       0.90      0.83      0.85        59\n",
            "\n",
            "AUC: 0.85\n"
          ]
        },
        {
          "data": {
            "image/png": "[encoded data removed]",
            "text/plain": [
              "<Figure size 640x480 with 2 Axes>"
            ]
          },
          "metadata": {},
          "output_type": "display_data"
        }
      ],
      "source": [
        "from imblearn.over_sampling import SMOTE\n",
        "\n",
        "smote = SMOTE(random_state=42)\n",
        "X_train_smote, y_train_smote = smote.fit_resample(X_train, y_train)\n",
        "k = 3\n",
        "kNN = KNeighborsClassifier(n_neighbors=k)\n",
        "kNN.fit(X_train_smote, y_train_smote)\n",
        "preds = kNN.predict(X_test)\n",
        "matrix=confusion_matrix(y_test, preds)\n",
        "\n",
        "print(\"Accuracy:\", accuracy_score(y_test, preds))\n",
        "print(\"F1 Score:\", metrics.f1_score(y_test, preds))\n",
        "print(\"Cohen Kappa:\", metrics.cohen_kappa_score(y_test, preds))\n",
        "print(\"Confusion Matrix:\")\n",
        "print(confusion_matrix(y_test, preds))\n",
        "print(\"Classification Report:\")\n",
        "print(classification_report(y_test, preds))\n",
        "auc_score2 = roc_auc_score(y_test,preds)\n",
        "print('AUC: %.2f' % auc_score2)\n",
        "\n",
        "ax = sns.heatmap(matrix, annot=True, cmap='Purples')\n",
        "ax.set_title('KNN Confusion Matrix with labels\\n\\n');\n",
        "ax.set_xlabel('\\nPredicted Values')\n",
        "ax.set_ylabel('Actual Values ');\n",
        "ax.xaxis.set_ticklabels(['False','True'])\n",
        "ax.yaxis.set_ticklabels(['False','True'])\n",
        "plt.savefig(\"kNN_balanced.jpg\")\n",
        "plt.show()\n"
      ]
    },
    {
      "cell_type": "markdown",
      "id": "a3b15296",
      "metadata": {
        "id": "a3b15296"
      },
      "source": [
        "Knn performs better than before with better f1 score, AUC and Cohen Kappa"
      ]
    },
    {
      "cell_type": "code",
      "execution_count": null,
      "id": "88409058",
      "metadata": {
        "id": "88409058",
        "outputId": "282758eb-a007-4609-cce2-becfd68bee30"
      },
      "outputs": [
        {
          "data": {
            "text/plain": [
              "Text(0.5, 1.0, 'After Oversampling')"
            ]
          },
          "execution_count": 117,
          "metadata": {},
          "output_type": "execute_result"
        },
        {
          "data": {
            "image/png": "[encoded data removed]",
            "text/plain": [
              "<Figure size 800x400 with 2 Axes>"
            ]
          },
          "metadata": {},
          "output_type": "display_data"
        }
      ],
      "source": [
        "fig, axs = plt.subplots(1,2, figsize = (8,4))\n",
        "sns.countplot(x=y_train, ax = axs[0])\n",
        "axs[0].set_title(\"Before Oversampling\")\n",
        "sns.countplot(x=y_train_resampled, ax = axs[1])\n",
        "axs[1].set_title(\"After Oversampling\")"
      ]
    }
  ],
  "metadata": {
    "kernelspec": {
      "display_name": "Python 3 (ipykernel)",
      "language": "python",
      "name": "python3"
    },
    "language_info": {
      "codemirror_mode": {
        "name": "ipython",
        "version": 3
      },
      "file_extension": ".py",
      "mimetype": "text/x-python",
      "name": "python",
      "nbconvert_exporter": "python",
      "pygments_lexer": "ipython3",
      "version": "3.10.9"
    },
    "colab": {
      "provenance": []
    }
  },
  "nbformat": 4,
  "nbformat_minor": 5
}